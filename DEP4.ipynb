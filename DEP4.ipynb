{
 "cells": [
  {
   "cell_type": "code",
   "execution_count": 18,
   "metadata": {},
   "outputs": [
    {
     "name": "stdout",
     "output_type": "stream",
     "text": [
      "Training data shape: (50000, 32, 32, 3) (50000, 1)\n",
      "Testing data shape: (10000, 32, 32, 3) (10000, 1)\n"
     ]
    }
   ],
   "source": [
    "import tensorflow as tf\n",
    "from tensorflow.keras.datasets import cifar10\n",
    "\n",
    "(X_train, y_train), (X_test, y_test) = cifar10.load_data()\n",
    "\n",
    "print(\"Training data shape:\", X_train.shape, y_train.shape)\n",
    "print(\"Testing data shape:\", X_test.shape, y_test.shape)\n"
   ]
  },
  {
   "cell_type": "code",
   "execution_count": 19,
   "metadata": {},
   "outputs": [],
   "source": [
    "# Normalization\n",
    "from tensorflow.keras.preprocessing.image import ImageDataGenerator\n",
    "from tensorflow.keras.utils import to_categorical\n",
    "\n",
    "X_train = X_train.astype('float32') / 255.0\n",
    "X_test = X_test.astype('float32') / 255.0\n",
    "\n",
    "\n",
    "y_train = to_categorical(y_train , 10)\n",
    "y_test = to_categorical(y_test , 10)\n",
    "\n",
    "datagen = ImageDataGenerator(\n",
    "    rotation_range = 15 , \n",
    "    width_shift_range = 0.1 , \n",
    "    height_shift_range = 0.1 , \n",
    "    horizontal_flip = True , \n",
    "    zoom_range = 0.1\n",
    ")\n",
    "\n",
    "datagen.fit(X_train)"
   ]
  },
  {
   "cell_type": "code",
   "execution_count": 20,
   "metadata": {},
   "outputs": [
    {
     "name": "stderr",
     "output_type": "stream",
     "text": [
      "c:\\Users\\wolle\\AppData\\Local\\Programs\\Python\\Python311\\Lib\\site-packages\\keras\\src\\layers\\convolutional\\base_conv.py:107: UserWarning: Do not pass an `input_shape`/`input_dim` argument to a layer. When using Sequential models, prefer using an `Input(shape)` object as the first layer in the model instead.\n",
      "  super().__init__(activity_regularizer=activity_regularizer, **kwargs)\n"
     ]
    }
   ],
   "source": [
    "# Making a Convolutional NN\n",
    "from tensorflow.keras.models import Sequential\n",
    "from tensorflow.keras.layers import Conv2D , MaxPooling2D , Flatten , Dense , Dropout\n",
    "\n",
    "model = Sequential([\n",
    "    Conv2D(32 , (3 , 3) , activation = 'relu' , input_shape = (32 , 32 , 3)) ,\n",
    "    MaxPooling2D((2 , 2)) , \n",
    "    Conv2D((64) , (3 , 3) , activation = 'relu') , \n",
    "    MaxPooling2D((2 , 2)) , \n",
    "    Conv2D(128 , (3 , 3) , activation = 'relu') ,\n",
    "    MaxPooling2D((2 , 2)) ,\n",
    "    Flatten() , \n",
    "    Dense(128 , activation = 'relu') , \n",
    "    Dropout(0.5) , \n",
    "    Dense(10 , activation = 'softmax')\n",
    "])\n",
    "\n",
    "model.compile(optimizer = 'adam' , loss = 'categorical_crossentropy' , metrics = ['accuracy'])\n",
    "\n",
    "batch_size = 64\n",
    "EPOCHS = 50"
   ]
  },
  {
   "cell_type": "code",
   "execution_count": 21,
   "metadata": {},
   "outputs": [
    {
     "name": "stdout",
     "output_type": "stream",
     "text": [
      "Epoch 1/50\n"
     ]
    },
    {
     "name": "stderr",
     "output_type": "stream",
     "text": [
      "c:\\Users\\wolle\\AppData\\Local\\Programs\\Python\\Python311\\Lib\\site-packages\\keras\\src\\trainers\\data_adapters\\py_dataset_adapter.py:121: UserWarning: Your `PyDataset` class should call `super().__init__(**kwargs)` in its constructor. `**kwargs` can include `workers`, `use_multiprocessing`, `max_queue_size`. Do not pass these arguments to `fit()`, as they will be ignored.\n",
      "  self._warn_if_super_not_called()\n"
     ]
    },
    {
     "name": "stdout",
     "output_type": "stream",
     "text": [
      "\u001b[1m781/781\u001b[0m \u001b[32m━━━━━━━━━━━━━━━━━━━━\u001b[0m\u001b[37m\u001b[0m \u001b[1m49s\u001b[0m 58ms/step - accuracy: 0.2518 - loss: 1.9761 - val_accuracy: 0.4801 - val_loss: 1.4234\n",
      "Epoch 2/50\n",
      "\u001b[1m  1/781\u001b[0m \u001b[37m━━━━━━━━━━━━━━━━━━━━\u001b[0m \u001b[1m18s\u001b[0m 24ms/step - accuracy: 0.4375 - loss: 1.8920"
     ]
    },
    {
     "name": "stderr",
     "output_type": "stream",
     "text": [
      "c:\\Users\\wolle\\AppData\\Local\\Programs\\Python\\Python311\\Lib\\contextlib.py:155: UserWarning: Your input ran out of data; interrupting training. Make sure that your dataset or generator can generate at least `steps_per_epoch * epochs` batches. You may need to use the `.repeat()` function when building your dataset.\n",
      "  self.gen.throw(typ, value, traceback)\n"
     ]
    },
    {
     "name": "stdout",
     "output_type": "stream",
     "text": [
      "\u001b[1m781/781\u001b[0m \u001b[32m━━━━━━━━━━━━━━━━━━━━\u001b[0m\u001b[37m\u001b[0m \u001b[1m2s\u001b[0m 2ms/step - accuracy: 0.4375 - loss: 1.8920 - val_accuracy: 0.4884 - val_loss: 1.4094\n",
      "Epoch 3/50\n",
      "\u001b[1m781/781\u001b[0m \u001b[32m━━━━━━━━━━━━━━━━━━━━\u001b[0m\u001b[37m\u001b[0m \u001b[1m45s\u001b[0m 57ms/step - accuracy: 0.4424 - loss: 1.5324 - val_accuracy: 0.5620 - val_loss: 1.2159\n",
      "Epoch 4/50\n",
      "\u001b[1m781/781\u001b[0m \u001b[32m━━━━━━━━━━━━━━━━━━━━\u001b[0m\u001b[37m\u001b[0m \u001b[1m2s\u001b[0m 2ms/step - accuracy: 0.5000 - loss: 1.3629 - val_accuracy: 0.5512 - val_loss: 1.2597\n",
      "Epoch 5/50\n",
      "\u001b[1m781/781\u001b[0m \u001b[32m━━━━━━━━━━━━━━━━━━━━\u001b[0m\u001b[37m\u001b[0m \u001b[1m46s\u001b[0m 58ms/step - accuracy: 0.5036 - loss: 1.3876 - val_accuracy: 0.6061 - val_loss: 1.1354\n",
      "Epoch 6/50\n",
      "\u001b[1m781/781\u001b[0m \u001b[32m━━━━━━━━━━━━━━━━━━━━\u001b[0m\u001b[37m\u001b[0m \u001b[1m2s\u001b[0m 2ms/step - accuracy: 0.5156 - loss: 1.2562 - val_accuracy: 0.5874 - val_loss: 1.1787\n",
      "Epoch 7/50\n",
      "\u001b[1m781/781\u001b[0m \u001b[32m━━━━━━━━━━━━━━━━━━━━\u001b[0m\u001b[37m\u001b[0m \u001b[1m45s\u001b[0m 58ms/step - accuracy: 0.5446 - loss: 1.2981 - val_accuracy: 0.6055 - val_loss: 1.1180\n",
      "Epoch 8/50\n",
      "\u001b[1m781/781\u001b[0m \u001b[32m━━━━━━━━━━━━━━━━━━━━\u001b[0m\u001b[37m\u001b[0m \u001b[1m2s\u001b[0m 2ms/step - accuracy: 0.5469 - loss: 1.2663 - val_accuracy: 0.5993 - val_loss: 1.1294\n",
      "Epoch 9/50\n",
      "\u001b[1m781/781\u001b[0m \u001b[32m━━━━━━━━━━━━━━━━━━━━\u001b[0m\u001b[37m\u001b[0m \u001b[1m45s\u001b[0m 58ms/step - accuracy: 0.5631 - loss: 1.2365 - val_accuracy: 0.6466 - val_loss: 1.0041\n",
      "Epoch 10/50\n",
      "\u001b[1m781/781\u001b[0m \u001b[32m━━━━━━━━━━━━━━━━━━━━\u001b[0m\u001b[37m\u001b[0m \u001b[1m2s\u001b[0m 2ms/step - accuracy: 0.5781 - loss: 1.2416 - val_accuracy: 0.6533 - val_loss: 0.9912\n",
      "Epoch 11/50\n",
      "\u001b[1m781/781\u001b[0m \u001b[32m━━━━━━━━━━━━━━━━━━━━\u001b[0m\u001b[37m\u001b[0m \u001b[1m46s\u001b[0m 58ms/step - accuracy: 0.5919 - loss: 1.1692 - val_accuracy: 0.6631 - val_loss: 0.9781\n",
      "Epoch 12/50\n",
      "\u001b[1m781/781\u001b[0m \u001b[32m━━━━━━━━━━━━━━━━━━━━\u001b[0m\u001b[37m\u001b[0m \u001b[1m2s\u001b[0m 2ms/step - accuracy: 0.5781 - loss: 1.2411 - val_accuracy: 0.6609 - val_loss: 0.9778\n",
      "Epoch 13/50\n",
      "\u001b[1m781/781\u001b[0m \u001b[32m━━━━━━━━━━━━━━━━━━━━\u001b[0m\u001b[37m\u001b[0m \u001b[1m52s\u001b[0m 66ms/step - accuracy: 0.6056 - loss: 1.1343 - val_accuracy: 0.6705 - val_loss: 0.9344\n",
      "Epoch 14/50\n",
      "\u001b[1m781/781\u001b[0m \u001b[32m━━━━━━━━━━━━━━━━━━━━\u001b[0m\u001b[37m\u001b[0m \u001b[1m2s\u001b[0m 2ms/step - accuracy: 0.5625 - loss: 1.3046 - val_accuracy: 0.6712 - val_loss: 0.9342\n",
      "Epoch 15/50\n",
      "\u001b[1m781/781\u001b[0m \u001b[32m━━━━━━━━━━━━━━━━━━━━\u001b[0m\u001b[37m\u001b[0m \u001b[1m48s\u001b[0m 60ms/step - accuracy: 0.6229 - loss: 1.0888 - val_accuracy: 0.6787 - val_loss: 0.9157\n",
      "Epoch 16/50\n",
      "\u001b[1m781/781\u001b[0m \u001b[32m━━━━━━━━━━━━━━━━━━━━\u001b[0m\u001b[37m\u001b[0m \u001b[1m2s\u001b[0m 2ms/step - accuracy: 0.5625 - loss: 1.0125 - val_accuracy: 0.6703 - val_loss: 0.9443\n",
      "Epoch 17/50\n",
      "\u001b[1m781/781\u001b[0m \u001b[32m━━━━━━━━━━━━━━━━━━━━\u001b[0m\u001b[37m\u001b[0m \u001b[1m46s\u001b[0m 59ms/step - accuracy: 0.6342 - loss: 1.0618 - val_accuracy: 0.6831 - val_loss: 0.9101\n",
      "Epoch 18/50\n",
      "\u001b[1m781/781\u001b[0m \u001b[32m━━━━━━━━━━━━━━━━━━━━\u001b[0m\u001b[37m\u001b[0m \u001b[1m2s\u001b[0m 2ms/step - accuracy: 0.5000 - loss: 1.3879 - val_accuracy: 0.6769 - val_loss: 0.9258\n",
      "Epoch 19/50\n",
      "\u001b[1m781/781\u001b[0m \u001b[32m━━━━━━━━━━━━━━━━━━━━\u001b[0m\u001b[37m\u001b[0m \u001b[1m53s\u001b[0m 67ms/step - accuracy: 0.6460 - loss: 1.0217 - val_accuracy: 0.6936 - val_loss: 0.8927\n",
      "Epoch 20/50\n",
      "\u001b[1m781/781\u001b[0m \u001b[32m━━━━━━━━━━━━━━━━━━━━\u001b[0m\u001b[37m\u001b[0m \u001b[1m2s\u001b[0m 3ms/step - accuracy: 0.6094 - loss: 0.9497 - val_accuracy: 0.6838 - val_loss: 0.9262\n",
      "Epoch 21/50\n",
      "\u001b[1m781/781\u001b[0m \u001b[32m━━━━━━━━━━━━━━━━━━━━\u001b[0m\u001b[37m\u001b[0m \u001b[1m53s\u001b[0m 68ms/step - accuracy: 0.6499 - loss: 1.0022 - val_accuracy: 0.7167 - val_loss: 0.8179\n",
      "Epoch 22/50\n",
      "\u001b[1m781/781\u001b[0m \u001b[32m━━━━━━━━━━━━━━━━━━━━\u001b[0m\u001b[37m\u001b[0m \u001b[1m2s\u001b[0m 3ms/step - accuracy: 0.7344 - loss: 0.8747 - val_accuracy: 0.7167 - val_loss: 0.8166\n",
      "Epoch 23/50\n",
      "\u001b[1m781/781\u001b[0m \u001b[32m━━━━━━━━━━━━━━━━━━━━\u001b[0m\u001b[37m\u001b[0m \u001b[1m53s\u001b[0m 67ms/step - accuracy: 0.6624 - loss: 0.9797 - val_accuracy: 0.6942 - val_loss: 0.8897\n",
      "Epoch 24/50\n",
      "\u001b[1m781/781\u001b[0m \u001b[32m━━━━━━━━━━━━━━━━━━━━\u001b[0m\u001b[37m\u001b[0m \u001b[1m2s\u001b[0m 2ms/step - accuracy: 0.7188 - loss: 0.8856 - val_accuracy: 0.6966 - val_loss: 0.8687\n",
      "Epoch 25/50\n",
      "\u001b[1m781/781\u001b[0m \u001b[32m━━━━━━━━━━━━━━━━━━━━\u001b[0m\u001b[37m\u001b[0m \u001b[1m53s\u001b[0m 67ms/step - accuracy: 0.6674 - loss: 0.9658 - val_accuracy: 0.7206 - val_loss: 0.8239\n",
      "Epoch 26/50\n",
      "\u001b[1m781/781\u001b[0m \u001b[32m━━━━━━━━━━━━━━━━━━━━\u001b[0m\u001b[37m\u001b[0m \u001b[1m2s\u001b[0m 2ms/step - accuracy: 0.7188 - loss: 0.9982 - val_accuracy: 0.7231 - val_loss: 0.8105\n",
      "Epoch 27/50\n",
      "\u001b[1m781/781\u001b[0m \u001b[32m━━━━━━━━━━━━━━━━━━━━\u001b[0m\u001b[37m\u001b[0m \u001b[1m52s\u001b[0m 66ms/step - accuracy: 0.6768 - loss: 0.9446 - val_accuracy: 0.7140 - val_loss: 0.8257\n",
      "Epoch 28/50\n",
      "\u001b[1m781/781\u001b[0m \u001b[32m━━━━━━━━━━━━━━━━━━━━\u001b[0m\u001b[37m\u001b[0m \u001b[1m2s\u001b[0m 2ms/step - accuracy: 0.6719 - loss: 1.1274 - val_accuracy: 0.7110 - val_loss: 0.8358\n",
      "Epoch 29/50\n",
      "\u001b[1m781/781\u001b[0m \u001b[32m━━━━━━━━━━━━━━━━━━━━\u001b[0m\u001b[37m\u001b[0m \u001b[1m52s\u001b[0m 66ms/step - accuracy: 0.6810 - loss: 0.9336 - val_accuracy: 0.7063 - val_loss: 0.8677\n",
      "Epoch 30/50\n",
      "\u001b[1m781/781\u001b[0m \u001b[32m━━━━━━━━━━━━━━━━━━━━\u001b[0m\u001b[37m\u001b[0m \u001b[1m2s\u001b[0m 2ms/step - accuracy: 0.7031 - loss: 0.9219 - val_accuracy: 0.7051 - val_loss: 0.8698\n",
      "Epoch 31/50\n",
      "\u001b[1m781/781\u001b[0m \u001b[32m━━━━━━━━━━━━━━━━━━━━\u001b[0m\u001b[37m\u001b[0m \u001b[1m53s\u001b[0m 68ms/step - accuracy: 0.6863 - loss: 0.9118 - val_accuracy: 0.7214 - val_loss: 0.8212\n",
      "Epoch 32/50\n",
      "\u001b[1m781/781\u001b[0m \u001b[32m━━━━━━━━━━━━━━━━━━━━\u001b[0m\u001b[37m\u001b[0m \u001b[1m2s\u001b[0m 3ms/step - accuracy: 0.6562 - loss: 1.0033 - val_accuracy: 0.7149 - val_loss: 0.8470\n",
      "Epoch 33/50\n",
      "\u001b[1m781/781\u001b[0m \u001b[32m━━━━━━━━━━━━━━━━━━━━\u001b[0m\u001b[37m\u001b[0m \u001b[1m51s\u001b[0m 65ms/step - accuracy: 0.6868 - loss: 0.9052 - val_accuracy: 0.7207 - val_loss: 0.7967\n",
      "Epoch 34/50\n",
      "\u001b[1m781/781\u001b[0m \u001b[32m━━━━━━━━━━━━━━━━━━━━\u001b[0m\u001b[37m\u001b[0m \u001b[1m2s\u001b[0m 2ms/step - accuracy: 0.7656 - loss: 0.6111 - val_accuracy: 0.7173 - val_loss: 0.8155\n",
      "Epoch 35/50\n",
      "\u001b[1m781/781\u001b[0m \u001b[32m━━━━━━━━━━━━━━━━━━━━\u001b[0m\u001b[37m\u001b[0m \u001b[1m51s\u001b[0m 65ms/step - accuracy: 0.6944 - loss: 0.8917 - val_accuracy: 0.7267 - val_loss: 0.7840\n",
      "Epoch 36/50\n",
      "\u001b[1m781/781\u001b[0m \u001b[32m━━━━━━━━━━━━━━━━━━━━\u001b[0m\u001b[37m\u001b[0m \u001b[1m2s\u001b[0m 2ms/step - accuracy: 0.5781 - loss: 1.0554 - val_accuracy: 0.7298 - val_loss: 0.7794\n",
      "Epoch 37/50\n",
      "\u001b[1m781/781\u001b[0m \u001b[32m━━━━━━━━━━━━━━━━━━━━\u001b[0m\u001b[37m\u001b[0m \u001b[1m51s\u001b[0m 65ms/step - accuracy: 0.6975 - loss: 0.8798 - val_accuracy: 0.7291 - val_loss: 0.7944\n",
      "Epoch 38/50\n",
      "\u001b[1m781/781\u001b[0m \u001b[32m━━━━━━━━━━━━━━━━━━━━\u001b[0m\u001b[37m\u001b[0m \u001b[1m2s\u001b[0m 3ms/step - accuracy: 0.7500 - loss: 0.7099 - val_accuracy: 0.7283 - val_loss: 0.7978\n",
      "Epoch 39/50\n",
      "\u001b[1m781/781\u001b[0m \u001b[32m━━━━━━━━━━━━━━━━━━━━\u001b[0m\u001b[37m\u001b[0m \u001b[1m51s\u001b[0m 65ms/step - accuracy: 0.7000 - loss: 0.8750 - val_accuracy: 0.7464 - val_loss: 0.7444\n",
      "Epoch 40/50\n",
      "\u001b[1m781/781\u001b[0m \u001b[32m━━━━━━━━━━━━━━━━━━━━\u001b[0m\u001b[37m\u001b[0m \u001b[1m2s\u001b[0m 2ms/step - accuracy: 0.7188 - loss: 0.8483 - val_accuracy: 0.7491 - val_loss: 0.7404\n",
      "Epoch 41/50\n",
      "\u001b[1m781/781\u001b[0m \u001b[32m━━━━━━━━━━━━━━━━━━━━\u001b[0m\u001b[37m\u001b[0m \u001b[1m51s\u001b[0m 65ms/step - accuracy: 0.7056 - loss: 0.8667 - val_accuracy: 0.7281 - val_loss: 0.7930\n",
      "Epoch 42/50\n",
      "\u001b[1m781/781\u001b[0m \u001b[32m━━━━━━━━━━━━━━━━━━━━\u001b[0m\u001b[37m\u001b[0m \u001b[1m2s\u001b[0m 2ms/step - accuracy: 0.6406 - loss: 1.0365 - val_accuracy: 0.7265 - val_loss: 0.7938\n",
      "Epoch 43/50\n",
      "\u001b[1m781/781\u001b[0m \u001b[32m━━━━━━━━━━━━━━━━━━━━\u001b[0m\u001b[37m\u001b[0m \u001b[1m51s\u001b[0m 65ms/step - accuracy: 0.7066 - loss: 0.8545 - val_accuracy: 0.7443 - val_loss: 0.7467\n",
      "Epoch 44/50\n",
      "\u001b[1m781/781\u001b[0m \u001b[32m━━━━━━━━━━━━━━━━━━━━\u001b[0m\u001b[37m\u001b[0m \u001b[1m2s\u001b[0m 2ms/step - accuracy: 0.6562 - loss: 0.9285 - val_accuracy: 0.7350 - val_loss: 0.7838\n",
      "Epoch 45/50\n",
      "\u001b[1m781/781\u001b[0m \u001b[32m━━━━━━━━━━━━━━━━━━━━\u001b[0m\u001b[37m\u001b[0m \u001b[1m52s\u001b[0m 66ms/step - accuracy: 0.7132 - loss: 0.8334 - val_accuracy: 0.7571 - val_loss: 0.7162\n",
      "Epoch 46/50\n",
      "\u001b[1m781/781\u001b[0m \u001b[32m━━━━━━━━━━━━━━━━━━━━\u001b[0m\u001b[37m\u001b[0m \u001b[1m2s\u001b[0m 3ms/step - accuracy: 0.7188 - loss: 0.7597 - val_accuracy: 0.7580 - val_loss: 0.7068\n",
      "Epoch 47/50\n",
      "\u001b[1m781/781\u001b[0m \u001b[32m━━━━━━━━━━━━━━━━━━━━\u001b[0m\u001b[37m\u001b[0m \u001b[1m52s\u001b[0m 66ms/step - accuracy: 0.7083 - loss: 0.8438 - val_accuracy: 0.7536 - val_loss: 0.7306\n",
      "Epoch 48/50\n",
      "\u001b[1m781/781\u001b[0m \u001b[32m━━━━━━━━━━━━━━━━━━━━\u001b[0m\u001b[37m\u001b[0m \u001b[1m2s\u001b[0m 2ms/step - accuracy: 0.7656 - loss: 0.6426 - val_accuracy: 0.7535 - val_loss: 0.7243\n",
      "Epoch 49/50\n",
      "\u001b[1m781/781\u001b[0m \u001b[32m━━━━━━━━━━━━━━━━━━━━\u001b[0m\u001b[37m\u001b[0m \u001b[1m52s\u001b[0m 66ms/step - accuracy: 0.7151 - loss: 0.8318 - val_accuracy: 0.7549 - val_loss: 0.7325\n",
      "Epoch 50/50\n",
      "\u001b[1m781/781\u001b[0m \u001b[32m━━━━━━━━━━━━━━━━━━━━\u001b[0m\u001b[37m\u001b[0m \u001b[1m2s\u001b[0m 3ms/step - accuracy: 0.8125 - loss: 0.7276 - val_accuracy: 0.7495 - val_loss: 0.7449\n",
      "\u001b[1m313/313\u001b[0m \u001b[32m━━━━━━━━━━━━━━━━━━━━\u001b[0m\u001b[37m\u001b[0m \u001b[1m2s\u001b[0m 7ms/step - accuracy: 0.7477 - loss: 0.7444\n",
      "\n",
      "Accuracy of the model: 74.95%\n",
      "Total Loss: 0.74\n"
     ]
    }
   ],
   "source": [
    "# Model Fitting\n",
    "\n",
    "model.fit(datagen.flow(X_train , y_train , batch_size = batch_size) ,\n",
    "          steps_per_epoch = len(X_train) // batch_size ,\n",
    "          epochs = EPOCHS , \n",
    "          validation_data = (X_test , y_test)\n",
    "          )\n",
    "loss , accuracy = model.evaluate(X_test , y_test)\n",
    "print(f'\\nAccuracy of the model: {accuracy*100:.2f}%')\n",
    "print(f'Total Loss: {loss:.2f}')"
   ]
  }
 ],
 "metadata": {
  "kernelspec": {
   "display_name": "Python 3",
   "language": "python",
   "name": "python3"
  },
  "language_info": {
   "codemirror_mode": {
    "name": "ipython",
    "version": 3
   },
   "file_extension": ".py",
   "mimetype": "text/x-python",
   "name": "python",
   "nbconvert_exporter": "python",
   "pygments_lexer": "ipython3",
   "version": "3.11.4"
  }
 },
 "nbformat": 4,
 "nbformat_minor": 2
}
